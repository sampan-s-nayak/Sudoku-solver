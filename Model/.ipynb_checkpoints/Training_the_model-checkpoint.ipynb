{
 "cells": [
  {
   "cell_type": "code",
   "execution_count": 1,
   "metadata": {},
   "outputs": [],
   "source": [
    "import torch\n",
    "import torch.nn as nn\n",
    "import torch.nn.functional as F\n",
    "import dataloader as dl\n",
    "from torchvision import datasets, transforms\n",
    "from torch.utils.data import DataLoader\n",
    "import numpy as np"
   ]
  },
  {
   "cell_type": "code",
   "execution_count": 2,
   "metadata": {},
   "outputs": [],
   "source": [
    "class Net(nn.Module):\n",
    "    def __init__(self):\n",
    "        super(Net, self).__init__()\n",
    "        self.conv1 = nn.Conv2d(1, 20, 5, 1)\n",
    "        self.conv2 = nn.Conv2d(20, 50, 5, 1)\n",
    "        self.fc1 = nn.Linear(4*4*50, 500)\n",
    "        self.fc2 = nn.Linear(500, 10)\n",
    "\n",
    "    def forward(self, x):\n",
    "        x = F.relu(self.conv1(x))\n",
    "        x = F.max_pool2d(x, 2, 2)\n",
    "        x = F.relu(self.conv2(x))\n",
    "        x = F.max_pool2d(x, 2, 2)\n",
    "        x = x.view(-1, 4*4*50)\n",
    "        x = F.relu(self.fc1(x))\n",
    "        x = self.fc2(x)\n",
    "        return F.log_softmax(x, dim=1)"
   ]
  },
  {
   "cell_type": "code",
   "execution_count": 3,
   "metadata": {},
   "outputs": [],
   "source": [
    "def count_correct(output,y):\n",
    "    sum = 0\n",
    "    for i in range(len(output)):\n",
    "        y_hat = output[i].argmax()\n",
    "        if( y_hat == y[i]):\n",
    "            sum += 1\n",
    "    return sum"
   ]
  },
  {
   "cell_type": "code",
   "execution_count": 4,
   "metadata": {},
   "outputs": [],
   "source": [
    "def train(model_conv,epoch):\n",
    "    data_set = dl.Ocr(\"train\")\n",
    "    test_set = dl.Ocr(\"test\")\n",
    "    momentum = 0.9\n",
    "    learning_rate = 0.001\n",
    "    loss_fn = F.nll_loss\n",
    "    optimizer = torch.optim.SGD(model_conv.parameters(),learning_rate,momentum=momentum)\n",
    "    dataloader = DataLoader(data_set, batch_size=60,shuffle=True)\n",
    "    \n",
    "    model_conv.train()\n",
    "    for i in range(epoch):\n",
    "        for _,(x,y) in enumerate(dataloader):\n",
    "                optimizer.zero_grad()\n",
    "                output = model_conv(x.float())\n",
    "                loss = loss_fn(output,y)\n",
    "                print(\"-\",end=\"\")\n",
    "                loss.backward()\n",
    "                optimizer.step()\n",
    "        acc = get_accuracy(model_conv,data_set)\n",
    "        print(f\"   epoch: {i+1} accuracy: {acc}\")\n",
    "    return (model_conv,optimizer)"
   ]
  },
  {
   "cell_type": "code",
   "execution_count": 5,
   "metadata": {},
   "outputs": [],
   "source": [
    "# saving the model:\n",
    "def save_checkpoint(model,optimizer,num_epoch,epoch_prev,save_path='../resources/checkpoint.pth'):\n",
    "    checkpoint = {'epoch':num_epoch + epoch_prev,\n",
    "                  'state_dict': model.state_dict(),\n",
    "                  'optimizer' : optimizer.state_dict()}\n",
    "\n",
    "    torch.save(checkpoint,save_path)"
   ]
  },
  {
   "cell_type": "code",
   "execution_count": 6,
   "metadata": {},
   "outputs": [],
   "source": [
    "def get_accuracy(model,dat_set):\n",
    "    batch_size = 100\n",
    "    data = DataLoader(dat_set, batch_size=batch_size)\n",
    "    temp = 0\n",
    "    for _,(x,y) in enumerate(data):\n",
    "        predictions = model(x.float())\n",
    "        temp += count_correct(predictions,y)\n",
    "    acc = (temp/len(dat_set))*100\n",
    "    return acc"
   ]
  },
  {
   "cell_type": "code",
   "execution_count": 10,
   "metadata": {},
   "outputs": [],
   "source": [
    "model = Net()"
   ]
  },
  {
   "cell_type": "code",
   "execution_count": 11,
   "metadata": {},
   "outputs": [
    {
     "name": "stdout",
     "output_type": "stream",
     "text": [
      "------------------------   epoch: 1 accuracy: 32.150461320085164\n",
      "------------------------   epoch: 2 accuracy: 89.3541518807665\n",
      "------------------------   epoch: 3 accuracy: 93.54151880766501\n",
      "------------------------   epoch: 4 accuracy: 98.93541518807665\n",
      "------------------------   epoch: 5 accuracy: 99.14833215046131\n",
      "------------------------   epoch: 6 accuracy: 96.23846699787083\n",
      "------------------------   epoch: 7 accuracy: 99.57416607523066\n",
      "------------------------   epoch: 8 accuracy: 99.78708303761533\n",
      "------------------------   epoch: 9 accuracy: 99.9290276792051\n",
      "------------------------   epoch: 10 accuracy: 99.78708303761533\n",
      "------------------------   epoch: 11 accuracy: 100.0\n",
      "------------------------   epoch: 12 accuracy: 100.0\n",
      "------------------------   epoch: 13 accuracy: 99.9290276792051\n",
      "------------------------   epoch: 14 accuracy: 99.9290276792051\n",
      "------------------------   epoch: 15 accuracy: 100.0\n"
     ]
    }
   ],
   "source": [
    "(model,optimizer) = train(model,15)"
   ]
  },
  {
   "cell_type": "code",
   "execution_count": 12,
   "metadata": {},
   "outputs": [
    {
     "data": {
      "text/plain": [
       "99.69909729187563"
      ]
     },
     "execution_count": 12,
     "metadata": {},
     "output_type": "execute_result"
    }
   ],
   "source": [
    "data_set = dl.Ocr(\"test\")\n",
    "get_accuracy(model,data_set)"
   ]
  },
  {
   "cell_type": "code",
   "execution_count": 13,
   "metadata": {},
   "outputs": [],
   "source": [
    "save_checkpoint(model,optimizer,10,0,save_path=\"../Data/checkpoint2.pth\")"
   ]
  }
 ],
 "metadata": {
  "kernelspec": {
   "display_name": "Python 3",
   "language": "python",
   "name": "python3"
  },
  "language_info": {
   "codemirror_mode": {
    "name": "ipython",
    "version": 3
   },
   "file_extension": ".py",
   "mimetype": "text/x-python",
   "name": "python",
   "nbconvert_exporter": "python",
   "pygments_lexer": "ipython3",
   "version": "3.7.3"
  }
 },
 "nbformat": 4,
 "nbformat_minor": 2
}
