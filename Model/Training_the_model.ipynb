{
 "cells": [
  {
   "cell_type": "code",
   "execution_count": 1,
   "metadata": {},
   "outputs": [],
   "source": [
    "import torch\n",
    "import torch.nn as nn\n",
    "import torch.nn.functional as F\n",
    "import dataloader as dl\n",
    "from torchvision import datasets, transforms\n",
    "from torch.utils.data import DataLoader\n",
    "import numpy as np"
   ]
  },
  {
   "cell_type": "code",
   "execution_count": 2,
   "metadata": {},
   "outputs": [],
   "source": [
    "class Net(nn.Module):\n",
    "    def __init__(self):\n",
    "        super(Net, self).__init__()\n",
    "        self.conv1 = nn.Conv2d(1, 32, 5, stride=1)\n",
    "        self.norm1 = nn.BatchNorm2d(32)\n",
    "        self.conv2 = nn.Conv2d(32, 48, 5, 1)\n",
    "        self.norm2 = nn.BatchNorm2d(48)\n",
    "        self.fc1 = nn.Linear(9*9*48, 420)\n",
    "        self.dropout1 = nn.Dropout(p=0.5)\n",
    "        self.fc2 = nn.Linear(420, 10)\n",
    "\n",
    "    def forward(self, x):\n",
    "        x = F.relu(self.norm1(self.conv1(x)))\n",
    "        x = F.max_pool2d(x, 2, 2)\n",
    "        x = F.relu(self.norm2(self.conv2(x)))\n",
    "        x = F.max_pool2d(x, 2, 2)\n",
    "        # flattening the image\n",
    "        x = x.view(-1, 9*9*48)\n",
    "        x = self.dropout1(F.relu(self.fc1(x)))\n",
    "        # final output\n",
    "        x = self.fc2(x)\n",
    "        return F.log_softmax(x, dim=1)"
   ]
  },
  {
   "cell_type": "code",
   "execution_count": 3,
   "metadata": {},
   "outputs": [],
   "source": [
    "def count_correct(output,y):\n",
    "    sum = 0\n",
    "    for i in range(len(output)):\n",
    "        y_hat = output[i].argmax()\n",
    "        if( y_hat == y[i]):\n",
    "            sum += 1\n",
    "    return sum"
   ]
  },
  {
   "cell_type": "code",
   "execution_count": 4,
   "metadata": {},
   "outputs": [],
   "source": [
    "def train(model_conv,epoch,strg=\"train\"):\n",
    "    data_set = dl.Ocr(strg,transforms=transforms.Compose([\n",
    "    transforms.ToTensor()]))\n",
    "    test_set = dl.Ocr(\"test\",transforms=transforms.Compose([\n",
    "    transforms.ToTensor()]))\n",
    "    learning_rate = 0.0001\n",
    "    loss_fn = nn.CrossEntropyLoss()\n",
    "    optimizer = torch.optim.Adam(model_conv.parameters(),learning_rate)\n",
    "    dataloader = DataLoader(data_set, batch_size=120,shuffle=True)\n",
    "    \n",
    "    for i in range(epoch):\n",
    "        model_conv.train()\n",
    "        for _,(x,y) in enumerate(dataloader):\n",
    "                optimizer.zero_grad()\n",
    "                output = model_conv(x.float())\n",
    "                loss = loss_fn(output,y)\n",
    "                print(\"-\",end=\"\")\n",
    "                loss.backward()\n",
    "                optimizer.step()\n",
    "        acc = get_accuracy(model_conv,data_set)\n",
    "        print(f\"   epoch: {i+1} accuracy: {acc}\")\n",
    "    return (model_conv,optimizer)"
   ]
  },
  {
   "cell_type": "code",
   "execution_count": 5,
   "metadata": {},
   "outputs": [],
   "source": [
    "# saving the model:\n",
    "def save_checkpoint(model,optimizer,num_epoch,epoch_prev,save_path='../resources/checkpoint.pth'):\n",
    "    checkpoint = {'epoch':num_epoch + epoch_prev,\n",
    "                  'state_dict': model.state_dict(),\n",
    "                  'optimizer' : optimizer.state_dict()}\n",
    "\n",
    "    torch.save(checkpoint,save_path)"
   ]
  },
  {
   "cell_type": "code",
   "execution_count": 6,
   "metadata": {},
   "outputs": [],
   "source": [
    "def get_accuracy(model,dat_set):\n",
    "    model.eval()\n",
    "    batch_size = 100\n",
    "    data = DataLoader(dat_set, batch_size=batch_size)\n",
    "    temp = 0\n",
    "    for _,(x,y) in enumerate(data):\n",
    "        predictions = model(x.float())\n",
    "        temp += count_correct(predictions,y)\n",
    "    acc = (temp/len(dat_set))*100\n",
    "    return acc"
   ]
  },
  {
   "cell_type": "code",
   "execution_count": 7,
   "metadata": {},
   "outputs": [],
   "source": [
    "model = Net()"
   ]
  },
  {
   "cell_type": "code",
   "execution_count": 13,
   "metadata": {},
   "outputs": [
    {
     "name": "stdout",
     "output_type": "stream",
     "text": [
      "------------   epoch: 1 accuracy: 99.14833215046131\n"
     ]
    }
   ],
   "source": [
    "(model,optimizer) = train(model,1)\n",
    "# (model,optimizer) = train(model,5,\"test\")"
   ]
  },
  {
   "cell_type": "code",
   "execution_count": 9,
   "metadata": {},
   "outputs": [],
   "source": [
    "# (model,optimizer) = train(model,1,\"test\")"
   ]
  },
  {
   "cell_type": "code",
   "execution_count": 14,
   "metadata": {},
   "outputs": [
    {
     "data": {
      "text/plain": [
       "98.89669007021064"
      ]
     },
     "execution_count": 14,
     "metadata": {},
     "output_type": "execute_result"
    }
   ],
   "source": [
    "data_set = dl.Ocr(\"test\",transforms=transforms.Compose([\n",
    "    transforms.ToTensor()]))\n",
    "get_accuracy(model,data_set)"
   ]
  },
  {
   "cell_type": "code",
   "execution_count": 15,
   "metadata": {},
   "outputs": [],
   "source": [
    "save_checkpoint(model,optimizer,10,0,save_path=\"../Weights/checkpoint_new2.pth\")"
   ]
  }
 ],
 "metadata": {
  "kernelspec": {
   "display_name": "Python 3",
   "language": "python",
   "name": "python3"
  },
  "language_info": {
   "codemirror_mode": {
    "name": "ipython",
    "version": 3
   },
   "file_extension": ".py",
   "mimetype": "text/x-python",
   "name": "python",
   "nbconvert_exporter": "python",
   "pygments_lexer": "ipython3",
   "version": "3.7.5"
  }
 },
 "nbformat": 4,
 "nbformat_minor": 2
}
